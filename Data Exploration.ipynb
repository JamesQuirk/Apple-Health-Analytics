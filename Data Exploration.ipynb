{
 "cells": [
  {
   "cell_type": "markdown",
   "metadata": {},
   "source": [
    "# Data Exploration"
   ]
  },
  {
   "cell_type": "code",
   "execution_count": 1,
   "metadata": {},
   "outputs": [],
   "source": [
    "import pandas as pd\n",
    "import os\n",
    "import matplotlib.pyplot as plt\n",
    "\n",
    "%matplotlib inline"
   ]
  },
  {
   "cell_type": "code",
   "execution_count": 2,
   "metadata": {},
   "outputs": [],
   "source": [
    "DATA_DIR = 'Data/Transformed Data'"
   ]
  },
  {
   "cell_type": "markdown",
   "metadata": {},
   "source": [
    "## Workout Data"
   ]
  },
  {
   "cell_type": "code",
   "execution_count": 10,
   "metadata": {
    "scrolled": false
   },
   "outputs": [
    {
     "name": "stderr",
     "output_type": "stream",
     "text": [
      "/Users/jamesquirk/Google Drive/GitHub/Apple-Health-Analytics/venv/lib/python3.7/site-packages/numpy/lib/arraysetops.py:580: FutureWarning: elementwise comparison failed; returning scalar instead, but in the future will perform elementwise comparison\n",
      "  mask |= (ar1 == a)\n"
     ]
    }
   ],
   "source": [
    "csv_filepath = os.path.join(DATA_DIR, 'workout-routes_data.csv')\n",
    "workout_data = pd.read_csv(csv_filepath,index_col=0,dtype={'workout_name':str,'datetime':str,'lon':float,'lat':float,'elev':float,'speed':float,'course':float,'hAcc':float,'vAcc':float},parse_dates=['datetime'])"
   ]
  },
  {
   "cell_type": "code",
   "execution_count": 11,
   "metadata": {},
   "outputs": [
    {
     "data": {
      "text/html": [
       "<div>\n",
       "<style scoped>\n",
       "    .dataframe tbody tr th:only-of-type {\n",
       "        vertical-align: middle;\n",
       "    }\n",
       "\n",
       "    .dataframe tbody tr th {\n",
       "        vertical-align: top;\n",
       "    }\n",
       "\n",
       "    .dataframe thead th {\n",
       "        text-align: right;\n",
       "    }\n",
       "</style>\n",
       "<table border=\"1\" class=\"dataframe\">\n",
       "  <thead>\n",
       "    <tr style=\"text-align: right;\">\n",
       "      <th></th>\n",
       "      <th>lon</th>\n",
       "      <th>lat</th>\n",
       "      <th>elev</th>\n",
       "      <th>speed</th>\n",
       "      <th>course</th>\n",
       "      <th>hAcc</th>\n",
       "      <th>vAcc</th>\n",
       "    </tr>\n",
       "  </thead>\n",
       "  <tbody>\n",
       "    <tr>\n",
       "      <th>count</th>\n",
       "      <td>1.047720e+06</td>\n",
       "      <td>1.047720e+06</td>\n",
       "      <td>1.047720e+06</td>\n",
       "      <td>1.047720e+06</td>\n",
       "      <td>1.047720e+06</td>\n",
       "      <td>1.047720e+06</td>\n",
       "      <td>1.047720e+06</td>\n",
       "    </tr>\n",
       "    <tr>\n",
       "      <th>mean</th>\n",
       "      <td>-2.539162e+00</td>\n",
       "      <td>5.337958e+01</td>\n",
       "      <td>5.625812e+01</td>\n",
       "      <td>1.467397e+00</td>\n",
       "      <td>1.715185e+02</td>\n",
       "      <td>1.227984e+00</td>\n",
       "      <td>8.579443e-01</td>\n",
       "    </tr>\n",
       "    <tr>\n",
       "      <th>std</th>\n",
       "      <td>5.821116e-01</td>\n",
       "      <td>6.911534e-01</td>\n",
       "      <td>1.040465e+02</td>\n",
       "      <td>7.509873e-01</td>\n",
       "      <td>1.012377e+02</td>\n",
       "      <td>6.324807e-01</td>\n",
       "      <td>4.125702e-01</td>\n",
       "    </tr>\n",
       "    <tr>\n",
       "      <th>min</th>\n",
       "      <td>-4.487817e+00</td>\n",
       "      <td>4.110943e+01</td>\n",
       "      <td>-2.157237e+02</td>\n",
       "      <td>-1.000000e+00</td>\n",
       "      <td>-1.000000e+00</td>\n",
       "      <td>7.213350e-01</td>\n",
       "      <td>6.271890e-01</td>\n",
       "    </tr>\n",
       "    <tr>\n",
       "      <th>25%</th>\n",
       "      <td>-2.518754e+00</td>\n",
       "      <td>5.338076e+01</td>\n",
       "      <td>2.626340e+01</td>\n",
       "      <td>1.166732e+00</td>\n",
       "      <td>7.335658e+01</td>\n",
       "      <td>9.629550e-01</td>\n",
       "      <td>7.153780e-01</td>\n",
       "    </tr>\n",
       "    <tr>\n",
       "      <th>50%</th>\n",
       "      <td>-2.372132e+00</td>\n",
       "      <td>5.346509e+01</td>\n",
       "      <td>2.781366e+01</td>\n",
       "      <td>1.442897e+00</td>\n",
       "      <td>1.958456e+02</td>\n",
       "      <td>9.652820e-01</td>\n",
       "      <td>7.160065e-01</td>\n",
       "    </tr>\n",
       "    <tr>\n",
       "      <th>75%</th>\n",
       "      <td>-2.274067e+00</td>\n",
       "      <td>5.347450e+01</td>\n",
       "      <td>5.081267e+01</td>\n",
       "      <td>1.647838e+00</td>\n",
       "      <td>2.502924e+02</td>\n",
       "      <td>1.161316e+00</td>\n",
       "      <td>7.981900e-01</td>\n",
       "    </tr>\n",
       "    <tr>\n",
       "      <th>max</th>\n",
       "      <td>1.274690e+00</td>\n",
       "      <td>5.367704e+01</td>\n",
       "      <td>1.076889e+03</td>\n",
       "      <td>1.648554e+01</td>\n",
       "      <td>3.599979e+02</td>\n",
       "      <td>4.800725e+01</td>\n",
       "      <td>3.185339e+01</td>\n",
       "    </tr>\n",
       "  </tbody>\n",
       "</table>\n",
       "</div>"
      ],
      "text/plain": [
       "                lon           lat          elev         speed        course  \\\n",
       "count  1.047720e+06  1.047720e+06  1.047720e+06  1.047720e+06  1.047720e+06   \n",
       "mean  -2.539162e+00  5.337958e+01  5.625812e+01  1.467397e+00  1.715185e+02   \n",
       "std    5.821116e-01  6.911534e-01  1.040465e+02  7.509873e-01  1.012377e+02   \n",
       "min   -4.487817e+00  4.110943e+01 -2.157237e+02 -1.000000e+00 -1.000000e+00   \n",
       "25%   -2.518754e+00  5.338076e+01  2.626340e+01  1.166732e+00  7.335658e+01   \n",
       "50%   -2.372132e+00  5.346509e+01  2.781366e+01  1.442897e+00  1.958456e+02   \n",
       "75%   -2.274067e+00  5.347450e+01  5.081267e+01  1.647838e+00  2.502924e+02   \n",
       "max    1.274690e+00  5.367704e+01  1.076889e+03  1.648554e+01  3.599979e+02   \n",
       "\n",
       "               hAcc          vAcc  \n",
       "count  1.047720e+06  1.047720e+06  \n",
       "mean   1.227984e+00  8.579443e-01  \n",
       "std    6.324807e-01  4.125702e-01  \n",
       "min    7.213350e-01  6.271890e-01  \n",
       "25%    9.629550e-01  7.153780e-01  \n",
       "50%    9.652820e-01  7.160065e-01  \n",
       "75%    1.161316e+00  7.981900e-01  \n",
       "max    4.800725e+01  3.185339e+01  "
      ]
     },
     "execution_count": 11,
     "metadata": {},
     "output_type": "execute_result"
    }
   ],
   "source": [
    "workout_data.describe(datetime_is_numeric=True)"
   ]
  },
  {
   "cell_type": "code",
   "execution_count": 12,
   "metadata": {},
   "outputs": [
    {
     "data": {
      "text/plain": [
       "workout_name                 object\n",
       "datetime        datetime64[ns, UTC]\n",
       "lon                         float64\n",
       "lat                         float64\n",
       "elev                        float64\n",
       "speed                       float64\n",
       "course                      float64\n",
       "hAcc                        float64\n",
       "vAcc                        float64\n",
       "dtype: object"
      ]
     },
     "execution_count": 12,
     "metadata": {},
     "output_type": "execute_result"
    }
   ],
   "source": [
    "workout_data.dtypes"
   ]
  },
  {
   "cell_type": "code",
   "execution_count": 24,
   "metadata": {},
   "outputs": [
    {
     "data": {
      "text/html": [
       "<div>\n",
       "<style scoped>\n",
       "    .dataframe tbody tr th:only-of-type {\n",
       "        vertical-align: middle;\n",
       "    }\n",
       "\n",
       "    .dataframe tbody tr th {\n",
       "        vertical-align: top;\n",
       "    }\n",
       "\n",
       "    .dataframe thead th {\n",
       "        text-align: right;\n",
       "    }\n",
       "</style>\n",
       "<table border=\"1\" class=\"dataframe\">\n",
       "  <thead>\n",
       "    <tr style=\"text-align: right;\">\n",
       "      <th></th>\n",
       "      <th>workout_name</th>\n",
       "      <th>datetime</th>\n",
       "      <th>lon</th>\n",
       "      <th>lat</th>\n",
       "      <th>elev</th>\n",
       "      <th>speed</th>\n",
       "      <th>course</th>\n",
       "      <th>hAcc</th>\n",
       "      <th>vAcc</th>\n",
       "      <th>time</th>\n",
       "      <th>counter</th>\n",
       "    </tr>\n",
       "  </thead>\n",
       "  <tbody>\n",
       "    <tr>\n",
       "      <th>0</th>\n",
       "      <td>Route 2019-09-08 1:03pm</td>\n",
       "      <td>2019-09-08 11:41:20+00:00</td>\n",
       "      <td>-2.495944</td>\n",
       "      <td>53.381443</td>\n",
       "      <td>17.492167</td>\n",
       "      <td>3.882764</td>\n",
       "      <td>-1.000000</td>\n",
       "      <td>6.708380</td>\n",
       "      <td>5.473464</td>\n",
       "      <td>11:41:20</td>\n",
       "      <td>1</td>\n",
       "    </tr>\n",
       "    <tr>\n",
       "      <th>1</th>\n",
       "      <td>Route 2019-09-08 1:03pm</td>\n",
       "      <td>2019-09-08 11:41:21+00:00</td>\n",
       "      <td>-2.495890</td>\n",
       "      <td>53.381455</td>\n",
       "      <td>17.715006</td>\n",
       "      <td>3.882913</td>\n",
       "      <td>-1.000000</td>\n",
       "      <td>6.345994</td>\n",
       "      <td>5.202903</td>\n",
       "      <td>11:41:21</td>\n",
       "      <td>1</td>\n",
       "    </tr>\n",
       "    <tr>\n",
       "      <th>2</th>\n",
       "      <td>Route 2019-09-08 1:03pm</td>\n",
       "      <td>2019-09-08 11:41:22+00:00</td>\n",
       "      <td>-2.495834</td>\n",
       "      <td>53.381468</td>\n",
       "      <td>17.946207</td>\n",
       "      <td>3.883478</td>\n",
       "      <td>-1.000000</td>\n",
       "      <td>5.996423</td>\n",
       "      <td>4.939213</td>\n",
       "      <td>11:41:22</td>\n",
       "      <td>1</td>\n",
       "    </tr>\n",
       "    <tr>\n",
       "      <th>3</th>\n",
       "      <td>Route 2019-09-08 1:03pm</td>\n",
       "      <td>2019-09-08 11:41:23+00:00</td>\n",
       "      <td>-2.495779</td>\n",
       "      <td>53.381480</td>\n",
       "      <td>18.171635</td>\n",
       "      <td>3.884566</td>\n",
       "      <td>-1.000000</td>\n",
       "      <td>5.681995</td>\n",
       "      <td>4.699025</td>\n",
       "      <td>11:41:23</td>\n",
       "      <td>1</td>\n",
       "    </tr>\n",
       "    <tr>\n",
       "      <th>4</th>\n",
       "      <td>Route 2019-09-08 1:03pm</td>\n",
       "      <td>2019-09-08 11:41:24+00:00</td>\n",
       "      <td>-2.495724</td>\n",
       "      <td>53.381493</td>\n",
       "      <td>18.397200</td>\n",
       "      <td>3.886378</td>\n",
       "      <td>-1.000000</td>\n",
       "      <td>5.393605</td>\n",
       "      <td>4.475432</td>\n",
       "      <td>11:41:24</td>\n",
       "      <td>1</td>\n",
       "    </tr>\n",
       "    <tr>\n",
       "      <th>...</th>\n",
       "      <td>...</td>\n",
       "      <td>...</td>\n",
       "      <td>...</td>\n",
       "      <td>...</td>\n",
       "      <td>...</td>\n",
       "      <td>...</td>\n",
       "      <td>...</td>\n",
       "      <td>...</td>\n",
       "      <td>...</td>\n",
       "      <td>...</td>\n",
       "      <td>...</td>\n",
       "    </tr>\n",
       "    <tr>\n",
       "      <th>1047715</th>\n",
       "      <td>Route 2020-08-09 8:32pm</td>\n",
       "      <td>2020-08-09 19:32:21+00:00</td>\n",
       "      <td>-2.264007</td>\n",
       "      <td>53.472317</td>\n",
       "      <td>30.678410</td>\n",
       "      <td>0.493094</td>\n",
       "      <td>53.322544</td>\n",
       "      <td>4.788907</td>\n",
       "      <td>3.182303</td>\n",
       "      <td>19:32:21</td>\n",
       "      <td>1</td>\n",
       "    </tr>\n",
       "    <tr>\n",
       "      <th>1047716</th>\n",
       "      <td>Route 2020-08-09 8:32pm</td>\n",
       "      <td>2020-08-09 19:32:22+00:00</td>\n",
       "      <td>-2.264005</td>\n",
       "      <td>53.472321</td>\n",
       "      <td>30.817717</td>\n",
       "      <td>0.492463</td>\n",
       "      <td>49.154648</td>\n",
       "      <td>5.148884</td>\n",
       "      <td>3.427234</td>\n",
       "      <td>19:32:22</td>\n",
       "      <td>1</td>\n",
       "    </tr>\n",
       "    <tr>\n",
       "      <th>1047717</th>\n",
       "      <td>Route 2020-08-09 8:32pm</td>\n",
       "      <td>2020-08-09 19:32:23+00:00</td>\n",
       "      <td>-2.264002</td>\n",
       "      <td>53.472325</td>\n",
       "      <td>30.957335</td>\n",
       "      <td>0.492069</td>\n",
       "      <td>41.908752</td>\n",
       "      <td>5.531296</td>\n",
       "      <td>3.688258</td>\n",
       "      <td>19:32:23</td>\n",
       "      <td>1</td>\n",
       "    </tr>\n",
       "    <tr>\n",
       "      <th>1047718</th>\n",
       "      <td>Route 2020-08-09 8:32pm</td>\n",
       "      <td>2020-08-09 19:32:24+00:00</td>\n",
       "      <td>-2.263999</td>\n",
       "      <td>53.472329</td>\n",
       "      <td>31.097107</td>\n",
       "      <td>0.491878</td>\n",
       "      <td>50.186630</td>\n",
       "      <td>5.935503</td>\n",
       "      <td>3.965015</td>\n",
       "      <td>19:32:24</td>\n",
       "      <td>1</td>\n",
       "    </tr>\n",
       "    <tr>\n",
       "      <th>1047719</th>\n",
       "      <td>Route 2020-08-09 8:32pm</td>\n",
       "      <td>2020-08-09 19:32:25+00:00</td>\n",
       "      <td>-2.263997</td>\n",
       "      <td>53.472334</td>\n",
       "      <td>31.236935</td>\n",
       "      <td>0.491827</td>\n",
       "      <td>52.206081</td>\n",
       "      <td>6.360769</td>\n",
       "      <td>4.257043</td>\n",
       "      <td>19:32:25</td>\n",
       "      <td>1</td>\n",
       "    </tr>\n",
       "  </tbody>\n",
       "</table>\n",
       "<p>1047720 rows × 11 columns</p>\n",
       "</div>"
      ],
      "text/plain": [
       "                    workout_name                  datetime       lon  \\\n",
       "0        Route 2019-09-08 1:03pm 2019-09-08 11:41:20+00:00 -2.495944   \n",
       "1        Route 2019-09-08 1:03pm 2019-09-08 11:41:21+00:00 -2.495890   \n",
       "2        Route 2019-09-08 1:03pm 2019-09-08 11:41:22+00:00 -2.495834   \n",
       "3        Route 2019-09-08 1:03pm 2019-09-08 11:41:23+00:00 -2.495779   \n",
       "4        Route 2019-09-08 1:03pm 2019-09-08 11:41:24+00:00 -2.495724   \n",
       "...                          ...                       ...       ...   \n",
       "1047715  Route 2020-08-09 8:32pm 2020-08-09 19:32:21+00:00 -2.264007   \n",
       "1047716  Route 2020-08-09 8:32pm 2020-08-09 19:32:22+00:00 -2.264005   \n",
       "1047717  Route 2020-08-09 8:32pm 2020-08-09 19:32:23+00:00 -2.264002   \n",
       "1047718  Route 2020-08-09 8:32pm 2020-08-09 19:32:24+00:00 -2.263999   \n",
       "1047719  Route 2020-08-09 8:32pm 2020-08-09 19:32:25+00:00 -2.263997   \n",
       "\n",
       "               lat       elev     speed     course      hAcc      vAcc  \\\n",
       "0        53.381443  17.492167  3.882764  -1.000000  6.708380  5.473464   \n",
       "1        53.381455  17.715006  3.882913  -1.000000  6.345994  5.202903   \n",
       "2        53.381468  17.946207  3.883478  -1.000000  5.996423  4.939213   \n",
       "3        53.381480  18.171635  3.884566  -1.000000  5.681995  4.699025   \n",
       "4        53.381493  18.397200  3.886378  -1.000000  5.393605  4.475432   \n",
       "...            ...        ...       ...        ...       ...       ...   \n",
       "1047715  53.472317  30.678410  0.493094  53.322544  4.788907  3.182303   \n",
       "1047716  53.472321  30.817717  0.492463  49.154648  5.148884  3.427234   \n",
       "1047717  53.472325  30.957335  0.492069  41.908752  5.531296  3.688258   \n",
       "1047718  53.472329  31.097107  0.491878  50.186630  5.935503  3.965015   \n",
       "1047719  53.472334  31.236935  0.491827  52.206081  6.360769  4.257043   \n",
       "\n",
       "             time  counter  \n",
       "0        11:41:20        1  \n",
       "1        11:41:21        1  \n",
       "2        11:41:22        1  \n",
       "3        11:41:23        1  \n",
       "4        11:41:24        1  \n",
       "...           ...      ...  \n",
       "1047715  19:32:21        1  \n",
       "1047716  19:32:22        1  \n",
       "1047717  19:32:23        1  \n",
       "1047718  19:32:24        1  \n",
       "1047719  19:32:25        1  \n",
       "\n",
       "[1047720 rows x 11 columns]"
      ]
     },
     "execution_count": 24,
     "metadata": {},
     "output_type": "execute_result"
    }
   ],
   "source": [
    "workout_data['time'] = workout_data['datetime'].dt.time\n",
    "workout_data['counter'] = 1\n",
    "workout_data"
   ]
  },
  {
   "cell_type": "markdown",
   "metadata": {},
   "source": [
    "### What is my most active time of the day?\n",
    "\n"
   ]
  },
  {
   "cell_type": "code",
   "execution_count": 29,
   "metadata": {},
   "outputs": [
    {
     "data": {
      "text/plain": [
       "<AxesSubplot:xlabel='time'>"
      ]
     },
     "execution_count": 29,
     "metadata": {},
     "output_type": "execute_result"
    },
    {
     "data": {
      "image/png": "[encoded data removed]",
      "text/plain": [
       "<Figure size 432x288 with 1 Axes>"
      ]
     },
     "metadata": {
      "needs_background": "light"
     },
     "output_type": "display_data"
    }
   ],
   "source": [
    "active_times = workout_data[['time','counter']].groupby(by='time').count()\n",
    "active_times.plot()"
   ]
  },
  {
   "cell_type": "markdown",
   "metadata": {},
   "source": [
    "As expected, my exercise is highest throughout the main hours of the day. Of this period, my most common time for exercising is mid afternoon, this would coincide with when I am finishing work."
   ]
  },
  {
   "cell_type": "code",
   "execution_count": null,
   "metadata": {},
   "outputs": [],
   "source": []
  },
  {
   "cell_type": "markdown",
   "metadata": {},
   "source": [
    "## ECG Data"
   ]
  },
  {
   "cell_type": "code",
   "execution_count": null,
   "metadata": {},
   "outputs": [],
   "source": [
    "csv_filepath"
   ]
  }
 ],
 "metadata": {
  "kernelspec": {
   "display_name": "Python 3",
   "language": "python",
   "name": "python3"
  },
  "language_info": {
   "codemirror_mode": {
    "name": "ipython",
    "version": 3
   },
   "file_extension": ".py",
   "mimetype": "text/x-python",
   "name": "python",
   "nbconvert_exporter": "python",
   "pygments_lexer": "ipython3",
   "version": "3.7.2"
  }
 },
 "nbformat": 4,
 "nbformat_minor": 4
}
